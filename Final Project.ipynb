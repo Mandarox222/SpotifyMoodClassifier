{
 "cells": [
  {
   "cell_type": "markdown",
   "id": "cdfab18b",
   "metadata": {},
   "source": [
    "Necessary imports"
   ]
  },
  {
   "cell_type": "code",
   "execution_count": 2,
   "id": "566dab4f",
   "metadata": {},
   "outputs": [],
   "source": [
    "import spotipy\n",
    "import spotipy.util as util\n",
    "from spotipy.oauth2 import SpotifyClientCredentials\n",
    "import spotipy.oauth2 as oauth2\n",
    "import pandas as pd\n",
    "import numpy as np"
   ]
  },
  {
   "cell_type": "markdown",
   "id": "af6b54c1",
   "metadata": {},
   "source": [
    "unique client id and client secret"
   ]
  },
  {
   "cell_type": "code",
   "execution_count": 3,
   "id": "ad8551df",
   "metadata": {},
   "outputs": [],
   "source": [
    "clientID = 'd2ccc643900f46b4be5309cf086db36d'"
   ]
  },
  {
   "cell_type": "code",
   "execution_count": 4,
   "id": "99b8132e",
   "metadata": {},
   "outputs": [],
   "source": [
    "clientSecret = '38a0accbac3a4d6b928c07757feb106e'"
   ]
  },
  {
   "cell_type": "markdown",
   "id": "633988e6",
   "metadata": {},
   "source": [
    "create spotify object"
   ]
  },
  {
   "cell_type": "code",
   "execution_count": 5,
   "id": "2fb025eb",
   "metadata": {},
   "outputs": [],
   "source": [
    "ccm = SpotifyClientCredentials(client_id=clientID, client_secret=clientSecret)\n",
    "sp = spotipy.Spotify(client_credentials_manager = ccm)"
   ]
  },
  {
   "cell_type": "markdown",
   "id": "67d11844",
   "metadata": {},
   "source": [
    "function to get list of song uris based on a playlist uri"
   ]
  },
  {
   "cell_type": "code",
   "execution_count": 6,
   "id": "085285d0",
   "metadata": {},
   "outputs": [],
   "source": [
    "def get_song_URI(mood_uri):\n",
    "    mood_99 = sp.playlist_tracks(mood_uri)\n",
    "    mood_songs = mood_99['items']\n",
    "    mood_song_uri = []\n",
    "    while mood_99['next']:\n",
    "        mood_99 = sp.next(mood_99)\n",
    "        mood_songs.extend(mood_99['items'])\n",
    "    for x in mood_songs:\n",
    "        mood_song_uri.append(x['track']['uri'])\n",
    "    return mood_song_uri\n"
   ]
  },
  {
   "cell_type": "markdown",
   "id": "8751388b",
   "metadata": {},
   "source": [
    "Take down playlist uris and use function to get list of song uris for each playlist"
   ]
  },
  {
   "cell_type": "code",
   "execution_count": 7,
   "id": "a4b89de4",
   "metadata": {},
   "outputs": [],
   "source": [
    "sad_URI = '37i9dQZF1DWSqBruwoIXkA' #sad hour\n",
    "happy_URI = '37i9dQZF1DXdPec7aLTmlC' #Happy hits!\n",
    "angry_URI = '07JztNEdtMFhc6hoLzQLsH' #RAGE! JUST PURE RAGE!\n",
    "    \n",
    "sad_songs_URI = get_song_URI(sad_URI)\n",
    "happy_songs_URI = get_song_URI(happy_URI)\n",
    "angry_songs_URI = get_song_URI(angry_URI)"
   ]
  },
  {
   "cell_type": "markdown",
   "id": "0baf6328",
   "metadata": {},
   "source": [
    "function to get features for each song in a list based on the song's uri"
   ]
  },
  {
   "cell_type": "code",
   "execution_count": 8,
   "id": "1c7abd8c",
   "metadata": {},
   "outputs": [],
   "source": [
    "def get_features(mood_song_uri):\n",
    "    mood_features = []\n",
    "    for x in mood_song_uri:\n",
    "        mood_features.append(sp.audio_features(x)[0])\n",
    "    return mood_features"
   ]
  },
  {
   "cell_type": "markdown",
   "id": "586d74c5",
   "metadata": {},
   "source": [
    "save list of all features of all songs for each mood"
   ]
  },
  {
   "cell_type": "code",
   "execution_count": 9,
   "id": "dcb90586",
   "metadata": {},
   "outputs": [],
   "source": [
    "sad_features = get_features(sad_songs_URI)\n",
    "    \n",
    "happy_features = get_features(happy_songs_URI)\n",
    "    \n",
    "angry_features = get_features(angry_songs_URI)"
   ]
  },
  {
   "cell_type": "markdown",
   "id": "d40bf9b8",
   "metadata": {},
   "source": [
    "save lists to dataframes"
   ]
  },
  {
   "cell_type": "code",
   "execution_count": 10,
   "id": "4ed7757d",
   "metadata": {},
   "outputs": [],
   "source": [
    "sad_df = pd.DataFrame(sad_features)\n",
    "\n",
    "happy_df = pd.DataFrame(happy_features)\n",
    "\n",
    "angry_df = pd.DataFrame(angry_features)"
   ]
  },
  {
   "cell_type": "markdown",
   "id": "b41038c2",
   "metadata": {},
   "source": [
    "add column to each df stating the mood"
   ]
  },
  {
   "cell_type": "code",
   "execution_count": 12,
   "id": "e832404e",
   "metadata": {},
   "outputs": [],
   "source": [
    "for x in sad_df:\n",
    "    sad_df['genre'] = 'sad'\n",
    "    \n",
    "for x in happy_df:\n",
    "    happy_df['genre'] = 'happy'\n",
    "\n",
    "for x in angry_df:\n",
    "    angry_df['genre'] = 'angry'"
   ]
  },
  {
   "cell_type": "markdown",
   "id": "2301ffb4",
   "metadata": {},
   "source": [
    "add extra playlists "
   ]
  },
  {
   "cell_type": "code",
   "execution_count": 13,
   "id": "04643ed0",
   "metadata": {},
   "outputs": [],
   "source": [
    "sad_2_uri = '37i9dQZF1DWW2hj3ZtMbuO' #sad girl starter pack\n",
    "sad_3_uri = '37i9dQZF1DWVV27DiNWxkR' #sad indie\n",
    "sad_4_uri = '37i9dQZF1DX7qK8ma5wgG1' #Sad Songs\n",
    "\n",
    "sad_songs_2_uri = get_song_URI(sad_2_uri)\n",
    "sad_songs_3_uri = get_song_URI(sad_3_uri)\n",
    "sad_songs_4_uri = get_song_URI(sad_4_uri)"
   ]
  },
  {
   "cell_type": "code",
   "execution_count": 14,
   "id": "1d79b555",
   "metadata": {},
   "outputs": [],
   "source": [
    "happy_2_uri = '37i9dQZF1DX0UrRvztWcAU' #Wake Up Happy \n",
    "happy_3_uri = '37i9dQZF1DX84kJlLdo9vT' #Happy Days\n",
    "happy_4_uri = '37i9dQZF1DWZKuerrwoAGz' #Happy favorites\n",
    "\n",
    "happy_songs_2_uri = get_song_URI(happy_2_uri)\n",
    "happy_songs_3_uri = get_song_URI(happy_3_uri)\n",
    "happy_songs_4_uri = get_song_URI(happy_4_uri)"
   ]
  },
  {
   "cell_type": "code",
   "execution_count": 15,
   "id": "15f72cb7",
   "metadata": {},
   "outputs": [],
   "source": [
    "angry_2_uri = '1hmtcQfAflMKwcbN0qqj4U'  #angry women playlist \n",
    "\n",
    "angry_songs_2_uri = get_song_URI(angry_2_uri)\n",
    "\n",
    "\n",
    "angry_2_features = get_features(angry_songs_2_uri)\n",
    "\n",
    "angry_2_df = pd.DataFrame(angry_2_features)\n",
    "\n",
    "for x in angry_2_df:\n",
    "    angry_2_df['genre'] = 'angry'"
   ]
  },
  {
   "cell_type": "code",
   "execution_count": 16,
   "id": "670b8da5",
   "metadata": {},
   "outputs": [],
   "source": [
    "sad_2_features = get_features(sad_songs_2_uri)\n",
    "sad_3_features = get_features(sad_songs_3_uri)\n",
    "sad_4_features = get_features(sad_songs_4_uri)\n",
    "happy_2_features = get_features(happy_songs_2_uri)\n",
    "happy_3_features = get_features(happy_songs_3_uri)\n",
    "happy_4_features = get_features(happy_songs_4_uri)"
   ]
  },
  {
   "cell_type": "code",
   "execution_count": 17,
   "id": "0f371373",
   "metadata": {},
   "outputs": [],
   "source": [
    "sad_2_df = pd.DataFrame(sad_2_features)\n",
    "sad_3_df = pd.DataFrame(sad_3_features)\n",
    "sad_4_df = pd.DataFrame(sad_4_features)\n",
    "happy_2_df = pd.DataFrame(happy_2_features)\n",
    "happy_3_df = pd.DataFrame(happy_3_features)\n",
    "happy_4_df = pd.DataFrame(happy_4_features)"
   ]
  },
  {
   "cell_type": "code",
   "execution_count": 18,
   "id": "d1e18d96",
   "metadata": {},
   "outputs": [],
   "source": [
    "for x in sad_2_df:\n",
    "    sad_2_df['genre'] = 'sad'\n",
    "    \n",
    "for x in sad_3_df:\n",
    "    sad_3_df['genre'] = 'sad'\n",
    "    \n",
    "for x in sad_4_df:\n",
    "    sad_4_df['genre'] = 'sad'\n",
    "    \n",
    "for x in happy_2_df:\n",
    "    happy_2_df['genre'] = 'happy'\n",
    "\n",
    "for x in happy_3_df:\n",
    "    happy_3_df['genre'] = 'happy'\n",
    "    \n",
    "for x in happy_4_df:\n",
    "    happy_4_df['genre'] = 'happy'"
   ]
  },
  {
   "cell_type": "markdown",
   "id": "b0fdb7c7",
   "metadata": {},
   "source": [
    "consolodate all dataframes into one dataframe"
   ]
  },
  {
   "cell_type": "code",
   "execution_count": 19,
   "id": "f3340bfc",
   "metadata": {},
   "outputs": [
    {
     "name": "stderr",
     "output_type": "stream",
     "text": [
      "C:\\Users\\manda\\AppData\\Local\\Temp\\ipykernel_288\\348178859.py:1: FutureWarning: The frame.append method is deprecated and will be removed from pandas in a future version. Use pandas.concat instead.\n",
      "  emotion_df = happy_df.append(angry_df.append(sad_df))\n"
     ]
    }
   ],
   "source": [
    "emotion_df = happy_df.append(angry_df.append(sad_df))"
   ]
  },
  {
   "cell_type": "code",
   "execution_count": 20,
   "id": "036ae190",
   "metadata": {},
   "outputs": [
    {
     "name": "stderr",
     "output_type": "stream",
     "text": [
      "C:\\Users\\manda\\AppData\\Local\\Temp\\ipykernel_288\\1195311430.py:1: FutureWarning: The frame.append method is deprecated and will be removed from pandas in a future version. Use pandas.concat instead.\n",
      "  emotion_plus_df = emotion_df.append(sad_2_df.append(sad_3_df.append(sad_4_df.append(happy_2_df.append(happy_3_df.append(happy_4_df.append(angry_2_df)))))))\n",
      "C:\\Users\\manda\\AppData\\Local\\Temp\\ipykernel_288\\1195311430.py:1: FutureWarning: The frame.append method is deprecated and will be removed from pandas in a future version. Use pandas.concat instead.\n",
      "  emotion_plus_df = emotion_df.append(sad_2_df.append(sad_3_df.append(sad_4_df.append(happy_2_df.append(happy_3_df.append(happy_4_df.append(angry_2_df)))))))\n",
      "C:\\Users\\manda\\AppData\\Local\\Temp\\ipykernel_288\\1195311430.py:1: FutureWarning: The frame.append method is deprecated and will be removed from pandas in a future version. Use pandas.concat instead.\n",
      "  emotion_plus_df = emotion_df.append(sad_2_df.append(sad_3_df.append(sad_4_df.append(happy_2_df.append(happy_3_df.append(happy_4_df.append(angry_2_df)))))))\n",
      "C:\\Users\\manda\\AppData\\Local\\Temp\\ipykernel_288\\1195311430.py:1: FutureWarning: The frame.append method is deprecated and will be removed from pandas in a future version. Use pandas.concat instead.\n",
      "  emotion_plus_df = emotion_df.append(sad_2_df.append(sad_3_df.append(sad_4_df.append(happy_2_df.append(happy_3_df.append(happy_4_df.append(angry_2_df)))))))\n",
      "C:\\Users\\manda\\AppData\\Local\\Temp\\ipykernel_288\\1195311430.py:1: FutureWarning: The frame.append method is deprecated and will be removed from pandas in a future version. Use pandas.concat instead.\n",
      "  emotion_plus_df = emotion_df.append(sad_2_df.append(sad_3_df.append(sad_4_df.append(happy_2_df.append(happy_3_df.append(happy_4_df.append(angry_2_df)))))))\n",
      "C:\\Users\\manda\\AppData\\Local\\Temp\\ipykernel_288\\1195311430.py:1: FutureWarning: The frame.append method is deprecated and will be removed from pandas in a future version. Use pandas.concat instead.\n",
      "  emotion_plus_df = emotion_df.append(sad_2_df.append(sad_3_df.append(sad_4_df.append(happy_2_df.append(happy_3_df.append(happy_4_df.append(angry_2_df)))))))\n"
     ]
    }
   ],
   "source": [
    "emotion_plus_df = emotion_df.append(sad_2_df.append(sad_3_df.append(sad_4_df.append(happy_2_df.append(happy_3_df.append(happy_4_df.append(angry_2_df)))))))"
   ]
  },
  {
   "cell_type": "code",
   "execution_count": null,
   "id": "692b0157",
   "metadata": {},
   "outputs": [],
   "source": [
    "emotion_plus_df.to_csv('csv4.csv')"
   ]
  },
  {
   "cell_type": "markdown",
   "id": "b5ecf181",
   "metadata": {},
   "source": [
    "select only relevant features"
   ]
  },
  {
   "cell_type": "code",
   "execution_count": 21,
   "id": "e729ded9",
   "metadata": {},
   "outputs": [],
   "source": [
    "trim_emotion_plus_df = emotion_plus_df[['danceability', 'energy', 'key', 'loudness', 'mode', 'speechiness', 'acousticness', 'instrumentalness', 'liveness', 'valence', 'tempo', 'duration_ms', 'time_signature', 'genre']]"
   ]
  },
  {
   "cell_type": "markdown",
   "id": "671c62f9",
   "metadata": {},
   "source": [
    "shuffle songs"
   ]
  },
  {
   "cell_type": "code",
   "execution_count": 22,
   "id": "1a1ec60f",
   "metadata": {},
   "outputs": [],
   "source": [
    "df_trim_plus_shuffle = trim_emotion_plus_df.sample(frac=1)"
   ]
  },
  {
   "cell_type": "code",
   "execution_count": null,
   "id": "7faadb9c",
   "metadata": {},
   "outputs": [],
   "source": [
    "df_trim_plus_shuffle.to_csv('full_songs_calmless.csv')"
   ]
  },
  {
   "cell_type": "markdown",
   "id": "a8f3dcc6",
   "metadata": {},
   "source": [
    "Data analysis"
   ]
  },
  {
   "cell_type": "code",
   "execution_count": 70,
   "id": "ccbd1937",
   "metadata": {},
   "outputs": [
    {
     "data": {
      "text/plain": [
       "0"
      ]
     },
     "execution_count": 70,
     "metadata": {},
     "output_type": "execute_result"
    }
   ],
   "source": [
    "import statistics as st\n",
    "st.mode(trim_emotion_plus_df['key'])"
   ]
  },
  {
   "cell_type": "code",
   "execution_count": 72,
   "id": "cd02e574",
   "metadata": {},
   "outputs": [
    {
     "data": {
      "text/plain": [
       "2.044"
      ]
     },
     "execution_count": 72,
     "metadata": {},
     "output_type": "execute_result"
    }
   ],
   "source": [
    "max(trim_emotion_plus_df['loudness'])"
   ]
  },
  {
   "cell_type": "code",
   "execution_count": 73,
   "id": "d0386c25",
   "metadata": {},
   "outputs": [
    {
     "data": {
      "text/plain": [
       "-27.043"
      ]
     },
     "execution_count": 73,
     "metadata": {},
     "output_type": "execute_result"
    }
   ],
   "source": [
    "min(trim_emotion_plus_df['loudness'])"
   ]
  },
  {
   "cell_type": "code",
   "execution_count": 78,
   "id": "5ad984c8",
   "metadata": {},
   "outputs": [
    {
     "data": {
      "text/plain": [
       "-7.279187962962963"
      ]
     },
     "execution_count": 78,
     "metadata": {},
     "output_type": "execute_result"
    }
   ],
   "source": [
    "st.mean(trim_emotion_plus_df['loudness'])"
   ]
  },
  {
   "cell_type": "code",
   "execution_count": 79,
   "id": "a23cdeb4",
   "metadata": {},
   "outputs": [
    {
     "data": {
      "text/plain": [
       "0.98"
      ]
     },
     "execution_count": 79,
     "metadata": {},
     "output_type": "execute_result"
    }
   ],
   "source": [
    "max(trim_emotion_plus_df['valence'])"
   ]
  },
  {
   "cell_type": "code",
   "execution_count": 80,
   "id": "fc847ba3",
   "metadata": {},
   "outputs": [
    {
     "data": {
      "text/plain": [
       "0.0206"
      ]
     },
     "execution_count": 80,
     "metadata": {},
     "output_type": "execute_result"
    }
   ],
   "source": [
    "min(trim_emotion_plus_df['valence'])"
   ]
  },
  {
   "cell_type": "code",
   "execution_count": 77,
   "id": "c895140b",
   "metadata": {},
   "outputs": [
    {
     "data": {
      "text/plain": [
       "0.48261805555555554"
      ]
     },
     "execution_count": 77,
     "metadata": {},
     "output_type": "execute_result"
    }
   ],
   "source": [
    "st.mean(trim_emotion_plus_df['valence'])"
   ]
  },
  {
   "cell_type": "code",
   "execution_count": 81,
   "id": "9a42e8b8",
   "metadata": {},
   "outputs": [
    {
     "data": {
      "text/plain": [
       "613027"
      ]
     },
     "execution_count": 81,
     "metadata": {},
     "output_type": "execute_result"
    }
   ],
   "source": [
    "max(trim_emotion_plus_df['duration_ms'])"
   ]
  },
  {
   "cell_type": "code",
   "execution_count": 82,
   "id": "da8d8af6",
   "metadata": {},
   "outputs": [
    {
     "data": {
      "text/plain": [
       "75672"
      ]
     },
     "execution_count": 82,
     "metadata": {},
     "output_type": "execute_result"
    }
   ],
   "source": [
    "min(trim_emotion_plus_df['duration_ms'])"
   ]
  },
  {
   "cell_type": "code",
   "execution_count": 83,
   "id": "225a8054",
   "metadata": {},
   "outputs": [
    {
     "data": {
      "text/plain": [
       "200771.9"
      ]
     },
     "execution_count": 83,
     "metadata": {},
     "output_type": "execute_result"
    }
   ],
   "source": [
    "st.mean(trim_emotion_plus_df['duration_ms'])"
   ]
  },
  {
   "cell_type": "code",
   "execution_count": 84,
   "id": "6721d490",
   "metadata": {},
   "outputs": [
    {
     "data": {
      "text/plain": [
       "0.988"
      ]
     },
     "execution_count": 84,
     "metadata": {},
     "output_type": "execute_result"
    }
   ],
   "source": [
    "max(trim_emotion_plus_df['acousticness'])"
   ]
  },
  {
   "cell_type": "code",
   "execution_count": 85,
   "id": "c154ddff",
   "metadata": {},
   "outputs": [
    {
     "data": {
      "text/plain": [
       "2.22e-06"
      ]
     },
     "execution_count": 85,
     "metadata": {},
     "output_type": "execute_result"
    }
   ],
   "source": [
    "min(trim_emotion_plus_df['acousticness'])"
   ]
  },
  {
   "cell_type": "code",
   "execution_count": 86,
   "id": "e9633b2f",
   "metadata": {},
   "outputs": [
    {
     "data": {
      "text/plain": [
       "0.31389572953703704"
      ]
     },
     "execution_count": 86,
     "metadata": {},
     "output_type": "execute_result"
    }
   ],
   "source": [
    "st.mean(trim_emotion_plus_df['acousticness'])"
   ]
  },
  {
   "cell_type": "markdown",
   "id": "7fcb5f88",
   "metadata": {},
   "source": [
    "scale the data"
   ]
  },
  {
   "cell_type": "code",
   "execution_count": 23,
   "id": "ce52001d",
   "metadata": {},
   "outputs": [
    {
     "data": {
      "text/html": [
       "<div>\n",
       "<style scoped>\n",
       "    .dataframe tbody tr th:only-of-type {\n",
       "        vertical-align: middle;\n",
       "    }\n",
       "\n",
       "    .dataframe tbody tr th {\n",
       "        vertical-align: top;\n",
       "    }\n",
       "\n",
       "    .dataframe thead th {\n",
       "        text-align: right;\n",
       "    }\n",
       "</style>\n",
       "<table border=\"1\" class=\"dataframe\">\n",
       "  <thead>\n",
       "    <tr style=\"text-align: right;\">\n",
       "      <th></th>\n",
       "      <th>danceability</th>\n",
       "      <th>energy</th>\n",
       "      <th>key</th>\n",
       "      <th>loudness</th>\n",
       "      <th>mode</th>\n",
       "      <th>speechiness</th>\n",
       "      <th>acousticness</th>\n",
       "      <th>instrumentalness</th>\n",
       "      <th>liveness</th>\n",
       "      <th>valence</th>\n",
       "      <th>tempo</th>\n",
       "      <th>duration_ms</th>\n",
       "      <th>time_signature</th>\n",
       "      <th>genre</th>\n",
       "    </tr>\n",
       "  </thead>\n",
       "  <tbody>\n",
       "    <tr>\n",
       "      <th>19</th>\n",
       "      <td>-0.833150</td>\n",
       "      <td>-0.871082</td>\n",
       "      <td>-0.817425</td>\n",
       "      <td>-1.695880</td>\n",
       "      <td>0.630202</td>\n",
       "      <td>-0.336436</td>\n",
       "      <td>0.819070</td>\n",
       "      <td>-0.257805</td>\n",
       "      <td>-0.488907</td>\n",
       "      <td>-0.918298</td>\n",
       "      <td>-1.126648</td>\n",
       "      <td>0.563918</td>\n",
       "      <td>0.256625</td>\n",
       "      <td>sad</td>\n",
       "    </tr>\n",
       "    <tr>\n",
       "      <th>23</th>\n",
       "      <td>-1.431959</td>\n",
       "      <td>-0.335272</td>\n",
       "      <td>-1.373531</td>\n",
       "      <td>-1.133017</td>\n",
       "      <td>0.630202</td>\n",
       "      <td>-0.421490</td>\n",
       "      <td>1.764491</td>\n",
       "      <td>-0.226728</td>\n",
       "      <td>-0.431841</td>\n",
       "      <td>-0.367206</td>\n",
       "      <td>0.940150</td>\n",
       "      <td>1.050028</td>\n",
       "      <td>0.256625</td>\n",
       "      <td>sad</td>\n",
       "    </tr>\n",
       "    <tr>\n",
       "      <th>92</th>\n",
       "      <td>-0.107927</td>\n",
       "      <td>0.373516</td>\n",
       "      <td>-0.261318</td>\n",
       "      <td>0.474237</td>\n",
       "      <td>-1.586794</td>\n",
       "      <td>-0.567785</td>\n",
       "      <td>-0.339535</td>\n",
       "      <td>-0.263171</td>\n",
       "      <td>1.187405</td>\n",
       "      <td>0.152839</td>\n",
       "      <td>-0.610991</td>\n",
       "      <td>0.339043</td>\n",
       "      <td>0.256625</td>\n",
       "      <td>happy</td>\n",
       "    </tr>\n",
       "    <tr>\n",
       "      <th>70</th>\n",
       "      <td>-1.032753</td>\n",
       "      <td>1.208873</td>\n",
       "      <td>1.685054</td>\n",
       "      <td>0.495418</td>\n",
       "      <td>0.630202</td>\n",
       "      <td>3.937849</td>\n",
       "      <td>-0.768991</td>\n",
       "      <td>-0.261860</td>\n",
       "      <td>-0.553106</td>\n",
       "      <td>-1.263701</td>\n",
       "      <td>-1.263208</td>\n",
       "      <td>-0.365269</td>\n",
       "      <td>0.256625</td>\n",
       "      <td>angry</td>\n",
       "    </tr>\n",
       "    <tr>\n",
       "      <th>126</th>\n",
       "      <td>0.650563</td>\n",
       "      <td>0.643530</td>\n",
       "      <td>0.016735</td>\n",
       "      <td>1.159671</td>\n",
       "      <td>0.630202</td>\n",
       "      <td>-0.148181</td>\n",
       "      <td>-0.962926</td>\n",
       "      <td>-0.263171</td>\n",
       "      <td>-0.324843</td>\n",
       "      <td>0.828121</td>\n",
       "      <td>0.339623</td>\n",
       "      <td>-0.424744</td>\n",
       "      <td>0.256625</td>\n",
       "      <td>happy</td>\n",
       "    </tr>\n",
       "    <tr>\n",
       "      <th>...</th>\n",
       "      <td>...</td>\n",
       "      <td>...</td>\n",
       "      <td>...</td>\n",
       "      <td>...</td>\n",
       "      <td>...</td>\n",
       "      <td>...</td>\n",
       "      <td>...</td>\n",
       "      <td>...</td>\n",
       "      <td>...</td>\n",
       "      <td>...</td>\n",
       "      <td>...</td>\n",
       "      <td>...</td>\n",
       "      <td>...</td>\n",
       "      <td>...</td>\n",
       "    </tr>\n",
       "    <tr>\n",
       "      <th>2</th>\n",
       "      <td>0.637256</td>\n",
       "      <td>-1.145315</td>\n",
       "      <td>1.128947</td>\n",
       "      <td>-0.879968</td>\n",
       "      <td>0.630202</td>\n",
       "      <td>-0.435099</td>\n",
       "      <td>0.877772</td>\n",
       "      <td>-0.228749</td>\n",
       "      <td>-0.503174</td>\n",
       "      <td>-0.669919</td>\n",
       "      <td>-1.415095</td>\n",
       "      <td>0.319747</td>\n",
       "      <td>-2.600647</td>\n",
       "      <td>sad</td>\n",
       "    </tr>\n",
       "    <tr>\n",
       "      <th>41</th>\n",
       "      <td>-1.179128</td>\n",
       "      <td>-1.900512</td>\n",
       "      <td>1.128947</td>\n",
       "      <td>-3.067595</td>\n",
       "      <td>0.630202</td>\n",
       "      <td>-0.430563</td>\n",
       "      <td>1.965316</td>\n",
       "      <td>0.123417</td>\n",
       "      <td>-0.545973</td>\n",
       "      <td>-0.545729</td>\n",
       "      <td>-1.067276</td>\n",
       "      <td>-0.585280</td>\n",
       "      <td>0.256625</td>\n",
       "      <td>sad</td>\n",
       "    </tr>\n",
       "    <tr>\n",
       "      <th>68</th>\n",
       "      <td>1.149570</td>\n",
       "      <td>0.141472</td>\n",
       "      <td>-1.095478</td>\n",
       "      <td>-0.822919</td>\n",
       "      <td>0.630202</td>\n",
       "      <td>-0.009825</td>\n",
       "      <td>-0.733461</td>\n",
       "      <td>-0.263171</td>\n",
       "      <td>-0.647979</td>\n",
       "      <td>1.522807</td>\n",
       "      <td>-0.272756</td>\n",
       "      <td>0.269900</td>\n",
       "      <td>0.256625</td>\n",
       "      <td>happy</td>\n",
       "    </tr>\n",
       "    <tr>\n",
       "      <th>12</th>\n",
       "      <td>-0.766616</td>\n",
       "      <td>0.040217</td>\n",
       "      <td>0.016735</td>\n",
       "      <td>0.046370</td>\n",
       "      <td>-1.586794</td>\n",
       "      <td>-0.590466</td>\n",
       "      <td>-0.675067</td>\n",
       "      <td>-0.263149</td>\n",
       "      <td>-0.488907</td>\n",
       "      <td>-0.254659</td>\n",
       "      <td>0.632973</td>\n",
       "      <td>0.836168</td>\n",
       "      <td>0.256625</td>\n",
       "      <td>happy</td>\n",
       "    </tr>\n",
       "    <tr>\n",
       "      <th>90</th>\n",
       "      <td>-0.966219</td>\n",
       "      <td>0.031779</td>\n",
       "      <td>-1.095478</td>\n",
       "      <td>0.515470</td>\n",
       "      <td>0.630202</td>\n",
       "      <td>-0.316022</td>\n",
       "      <td>0.927206</td>\n",
       "      <td>-0.263171</td>\n",
       "      <td>-0.618732</td>\n",
       "      <td>-0.258540</td>\n",
       "      <td>-1.545619</td>\n",
       "      <td>0.010755</td>\n",
       "      <td>0.256625</td>\n",
       "      <td>sad</td>\n",
       "    </tr>\n",
       "  </tbody>\n",
       "</table>\n",
       "<p>1080 rows × 14 columns</p>\n",
       "</div>"
      ],
      "text/plain": [
       "     danceability    energy       key  loudness      mode  speechiness  \\\n",
       "19      -0.833150 -0.871082 -0.817425 -1.695880  0.630202    -0.336436   \n",
       "23      -1.431959 -0.335272 -1.373531 -1.133017  0.630202    -0.421490   \n",
       "92      -0.107927  0.373516 -0.261318  0.474237 -1.586794    -0.567785   \n",
       "70      -1.032753  1.208873  1.685054  0.495418  0.630202     3.937849   \n",
       "126      0.650563  0.643530  0.016735  1.159671  0.630202    -0.148181   \n",
       "..            ...       ...       ...       ...       ...          ...   \n",
       "2        0.637256 -1.145315  1.128947 -0.879968  0.630202    -0.435099   \n",
       "41      -1.179128 -1.900512  1.128947 -3.067595  0.630202    -0.430563   \n",
       "68       1.149570  0.141472 -1.095478 -0.822919  0.630202    -0.009825   \n",
       "12      -0.766616  0.040217  0.016735  0.046370 -1.586794    -0.590466   \n",
       "90      -0.966219  0.031779 -1.095478  0.515470  0.630202    -0.316022   \n",
       "\n",
       "     acousticness  instrumentalness  liveness   valence     tempo  \\\n",
       "19       0.819070         -0.257805 -0.488907 -0.918298 -1.126648   \n",
       "23       1.764491         -0.226728 -0.431841 -0.367206  0.940150   \n",
       "92      -0.339535         -0.263171  1.187405  0.152839 -0.610991   \n",
       "70      -0.768991         -0.261860 -0.553106 -1.263701 -1.263208   \n",
       "126     -0.962926         -0.263171 -0.324843  0.828121  0.339623   \n",
       "..            ...               ...       ...       ...       ...   \n",
       "2        0.877772         -0.228749 -0.503174 -0.669919 -1.415095   \n",
       "41       1.965316          0.123417 -0.545973 -0.545729 -1.067276   \n",
       "68      -0.733461         -0.263171 -0.647979  1.522807 -0.272756   \n",
       "12      -0.675067         -0.263149 -0.488907 -0.254659  0.632973   \n",
       "90       0.927206         -0.263171 -0.618732 -0.258540 -1.545619   \n",
       "\n",
       "     duration_ms  time_signature  genre  \n",
       "19      0.563918        0.256625    sad  \n",
       "23      1.050028        0.256625    sad  \n",
       "92      0.339043        0.256625  happy  \n",
       "70     -0.365269        0.256625  angry  \n",
       "126    -0.424744        0.256625  happy  \n",
       "..           ...             ...    ...  \n",
       "2       0.319747       -2.600647    sad  \n",
       "41     -0.585280        0.256625    sad  \n",
       "68      0.269900        0.256625  happy  \n",
       "12      0.836168        0.256625  happy  \n",
       "90      0.010755        0.256625    sad  \n",
       "\n",
       "[1080 rows x 14 columns]"
      ]
     },
     "execution_count": 23,
     "metadata": {},
     "output_type": "execute_result"
    }
   ],
   "source": [
    "from sklearn.preprocessing import StandardScaler\n",
    "scaler = StandardScaler()\n",
    "numeric = df_trim_plus_shuffle.select_dtypes(exclude=['object'])\n",
    "df_trim_plus_shuffle[numeric.columns] = scaler.fit_transform(numeric)\n",
    "df_trim_plus_shuffle"
   ]
  },
  {
   "cell_type": "code",
   "execution_count": null,
   "id": "c8b83a76",
   "metadata": {},
   "outputs": [],
   "source": [
    "df_trim_plus_shuffle.to_csv('full_songs_no_calm.csv')"
   ]
  },
  {
   "cell_type": "markdown",
   "id": "76c0a96a",
   "metadata": {},
   "source": [
    "split data into training and testing set"
   ]
  },
  {
   "cell_type": "code",
   "execution_count": 24,
   "id": "adcfa34f",
   "metadata": {},
   "outputs": [],
   "source": [
    "from sklearn.model_selection import train_test_split\n",
    "labels = df_trim_plus_shuffle[['genre']]\n",
    "features = df_trim_plus_shuffle.loc[:, df_trim_plus_shuffle.columns != 'genre']\n",
    "X_train, X_test, y_train, y_test = train_test_split(features, labels, random_state = 42, train_size = .8)"
   ]
  },
  {
   "cell_type": "markdown",
   "id": "26c94fc6",
   "metadata": {},
   "source": [
    "import various classifiers"
   ]
  },
  {
   "cell_type": "code",
   "execution_count": 25,
   "id": "102f2417",
   "metadata": {},
   "outputs": [],
   "source": [
    "from sklearn.model_selection import GridSearchCV\n",
    "from sklearn.ensemble import RandomForestClassifier\n",
    "from sklearn.neighbors import KNeighborsClassifier\n",
    "from sklearn.ensemble import GradientBoostingClassifier\n",
    "from sklearn.linear_model import RidgeClassifier\n",
    "from sklearn.svm import SVC\n",
    "from sklearn.ensemble import BaggingClassifier"
   ]
  },
  {
   "cell_type": "markdown",
   "id": "dbf4cfe6",
   "metadata": {},
   "source": [
    "beginning of random forest grid search"
   ]
  },
  {
   "cell_type": "code",
   "execution_count": 26,
   "id": "0db91633",
   "metadata": {},
   "outputs": [
    {
     "name": "stdout",
     "output_type": "stream",
     "text": [
      "Fitting 3 folds for each of 125 candidates, totalling 375 fits\n",
      "{'max_depth': 10, 'min_samples_split': 2, 'n_estimators': 200}\n"
     ]
    }
   ],
   "source": [
    "param_grid = {'max_depth':[2, 10, 17, 25, 32],\n",
    "             'n_estimators':[2, 20, 50, 100, 200],\n",
    "             'min_samples_split':[2, 7, 11, 16, 20]}\n",
    "grid_search_rf = GridSearchCV(RandomForestClassifier(random_state = 42),\n",
    "                              param_grid, verbose = 1,\n",
    "                              cv = 3)\n",
    "grid_search_rf.fit(X_train, y_train['genre'])\n",
    "print(grid_search_rf.best_params_)"
   ]
  },
  {
   "cell_type": "code",
   "execution_count": 27,
   "id": "ca375d51",
   "metadata": {},
   "outputs": [
    {
     "name": "stdout",
     "output_type": "stream",
     "text": [
      "Fitting 3 folds for each of 216 candidates, totalling 648 fits\n",
      "{'max_depth': 8, 'min_samples_split': 6, 'n_estimators': 140}\n"
     ]
    }
   ],
   "source": [
    "param_grid = {'max_depth':[2,5,8,11,14,17],\n",
    "             'n_estimators':[100,140,180,220,260,300],\n",
    "             'min_samples_split':[2,3,4,5,6,7]}\n",
    "grid_search_rf = GridSearchCV(RandomForestClassifier(random_state = 42),\n",
    "                              param_grid, verbose = 1,\n",
    "                              cv = 3)\n",
    "grid_search_rf.fit(X_train, y_train['genre'])\n",
    "print(grid_search_rf.best_params_)"
   ]
  },
  {
   "cell_type": "code",
   "execution_count": 28,
   "id": "71bcfc7b",
   "metadata": {},
   "outputs": [
    {
     "name": "stdout",
     "output_type": "stream",
     "text": [
      "Fitting 3 folds for each of 42 candidates, totalling 126 fits\n",
      "{'max_depth': 8, 'min_samples_split': 6, 'n_estimators': 148}\n"
     ]
    }
   ],
   "source": [
    "param_grid = {'max_depth':[5,6,7,8,9,10,11],\n",
    "             'n_estimators':[100,116,132,148,164,180],\n",
    "             'min_samples_split':[6]}\n",
    "grid_search_rf = GridSearchCV(RandomForestClassifier(random_state = 42),\n",
    "                              param_grid, verbose = 1,\n",
    "                              cv = 3)\n",
    "grid_search_rf.fit(X_train, y_train['genre'])\n",
    "print(grid_search_rf.best_params_)"
   ]
  },
  {
   "cell_type": "code",
   "execution_count": 29,
   "id": "662a0bbd",
   "metadata": {},
   "outputs": [
    {
     "name": "stdout",
     "output_type": "stream",
     "text": [
      "Fitting 3 folds for each of 33 candidates, totalling 99 fits\n",
      "{'max_depth': 8, 'min_samples_split': 6, 'n_estimators': 154}\n"
     ]
    }
   ],
   "source": [
    "param_grid = {'max_depth':[8],\n",
    "             'n_estimators':[132,133,134,135,136,137,138,139,140,141,142,143,144,145,146,147,148,149,150,151,152,153,154,155,156,157,158,159,160,161,162,163,164],\n",
    "             'min_samples_split':[6]}\n",
    "grid_search_rf = GridSearchCV(RandomForestClassifier(random_state = 42),\n",
    "                              param_grid, verbose = 1,\n",
    "                              cv = 3)\n",
    "grid_search_rf.fit(X_train, y_train['genre'])\n",
    "print(grid_search_rf.best_params_)"
   ]
  },
  {
   "cell_type": "markdown",
   "id": "f11c85f6",
   "metadata": {},
   "source": [
    "max depth: 8\n",
    "min_samples_split: 6\n",
    "n_estimators: 154"
   ]
  },
  {
   "cell_type": "code",
   "execution_count": 30,
   "id": "b1431059",
   "metadata": {},
   "outputs": [],
   "source": [
    "from sklearn.metrics import accuracy_score"
   ]
  },
  {
   "cell_type": "code",
   "execution_count": 31,
   "id": "786122ea",
   "metadata": {},
   "outputs": [
    {
     "data": {
      "text/html": [
       "<style>#sk-container-id-1 {color: black;background-color: white;}#sk-container-id-1 pre{padding: 0;}#sk-container-id-1 div.sk-toggleable {background-color: white;}#sk-container-id-1 label.sk-toggleable__label {cursor: pointer;display: block;width: 100%;margin-bottom: 0;padding: 0.3em;box-sizing: border-box;text-align: center;}#sk-container-id-1 label.sk-toggleable__label-arrow:before {content: \"▸\";float: left;margin-right: 0.25em;color: #696969;}#sk-container-id-1 label.sk-toggleable__label-arrow:hover:before {color: black;}#sk-container-id-1 div.sk-estimator:hover label.sk-toggleable__label-arrow:before {color: black;}#sk-container-id-1 div.sk-toggleable__content {max-height: 0;max-width: 0;overflow: hidden;text-align: left;background-color: #f0f8ff;}#sk-container-id-1 div.sk-toggleable__content pre {margin: 0.2em;color: black;border-radius: 0.25em;background-color: #f0f8ff;}#sk-container-id-1 input.sk-toggleable__control:checked~div.sk-toggleable__content {max-height: 200px;max-width: 100%;overflow: auto;}#sk-container-id-1 input.sk-toggleable__control:checked~label.sk-toggleable__label-arrow:before {content: \"▾\";}#sk-container-id-1 div.sk-estimator input.sk-toggleable__control:checked~label.sk-toggleable__label {background-color: #d4ebff;}#sk-container-id-1 div.sk-label input.sk-toggleable__control:checked~label.sk-toggleable__label {background-color: #d4ebff;}#sk-container-id-1 input.sk-hidden--visually {border: 0;clip: rect(1px 1px 1px 1px);clip: rect(1px, 1px, 1px, 1px);height: 1px;margin: -1px;overflow: hidden;padding: 0;position: absolute;width: 1px;}#sk-container-id-1 div.sk-estimator {font-family: monospace;background-color: #f0f8ff;border: 1px dotted black;border-radius: 0.25em;box-sizing: border-box;margin-bottom: 0.5em;}#sk-container-id-1 div.sk-estimator:hover {background-color: #d4ebff;}#sk-container-id-1 div.sk-parallel-item::after {content: \"\";width: 100%;border-bottom: 1px solid gray;flex-grow: 1;}#sk-container-id-1 div.sk-label:hover label.sk-toggleable__label {background-color: #d4ebff;}#sk-container-id-1 div.sk-serial::before {content: \"\";position: absolute;border-left: 1px solid gray;box-sizing: border-box;top: 0;bottom: 0;left: 50%;z-index: 0;}#sk-container-id-1 div.sk-serial {display: flex;flex-direction: column;align-items: center;background-color: white;padding-right: 0.2em;padding-left: 0.2em;position: relative;}#sk-container-id-1 div.sk-item {position: relative;z-index: 1;}#sk-container-id-1 div.sk-parallel {display: flex;align-items: stretch;justify-content: center;background-color: white;position: relative;}#sk-container-id-1 div.sk-item::before, #sk-container-id-1 div.sk-parallel-item::before {content: \"\";position: absolute;border-left: 1px solid gray;box-sizing: border-box;top: 0;bottom: 0;left: 50%;z-index: -1;}#sk-container-id-1 div.sk-parallel-item {display: flex;flex-direction: column;z-index: 1;position: relative;background-color: white;}#sk-container-id-1 div.sk-parallel-item:first-child::after {align-self: flex-end;width: 50%;}#sk-container-id-1 div.sk-parallel-item:last-child::after {align-self: flex-start;width: 50%;}#sk-container-id-1 div.sk-parallel-item:only-child::after {width: 0;}#sk-container-id-1 div.sk-dashed-wrapped {border: 1px dashed gray;margin: 0 0.4em 0.5em 0.4em;box-sizing: border-box;padding-bottom: 0.4em;background-color: white;}#sk-container-id-1 div.sk-label label {font-family: monospace;font-weight: bold;display: inline-block;line-height: 1.2em;}#sk-container-id-1 div.sk-label-container {text-align: center;}#sk-container-id-1 div.sk-container {/* jupyter's `normalize.less` sets `[hidden] { display: none; }` but bootstrap.min.css set `[hidden] { display: none !important; }` so we also need the `!important` here to be able to override the default hidden behavior on the sphinx rendered scikit-learn.org. See: https://github.com/scikit-learn/scikit-learn/issues/21755 */display: inline-block !important;position: relative;}#sk-container-id-1 div.sk-text-repr-fallback {display: none;}</style><div id=\"sk-container-id-1\" class=\"sk-top-container\"><div class=\"sk-text-repr-fallback\"><pre>RandomForestClassifier(max_depth=8, min_samples_split=6, n_estimators=154,\n",
       "                       random_state=42)</pre><b>In a Jupyter environment, please rerun this cell to show the HTML representation or trust the notebook. <br />On GitHub, the HTML representation is unable to render, please try loading this page with nbviewer.org.</b></div><div class=\"sk-container\" hidden><div class=\"sk-item\"><div class=\"sk-estimator sk-toggleable\"><input class=\"sk-toggleable__control sk-hidden--visually\" id=\"sk-estimator-id-1\" type=\"checkbox\" checked><label for=\"sk-estimator-id-1\" class=\"sk-toggleable__label sk-toggleable__label-arrow\">RandomForestClassifier</label><div class=\"sk-toggleable__content\"><pre>RandomForestClassifier(max_depth=8, min_samples_split=6, n_estimators=154,\n",
       "                       random_state=42)</pre></div></div></div></div></div>"
      ],
      "text/plain": [
       "RandomForestClassifier(max_depth=8, min_samples_split=6, n_estimators=154,\n",
       "                       random_state=42)"
      ]
     },
     "execution_count": 31,
     "metadata": {},
     "output_type": "execute_result"
    }
   ],
   "source": [
    "op_rf = RandomForestClassifier(max_depth = 8, n_estimators = 154,\n",
    "                               min_samples_split = 6, random_state = 42)\n",
    "op_rf.fit(X_train, y_train['genre'])"
   ]
  },
  {
   "cell_type": "code",
   "execution_count": 32,
   "id": "a181611c",
   "metadata": {},
   "outputs": [
    {
     "data": {
      "text/plain": [
       "0.8472222222222222"
      ]
     },
     "execution_count": 32,
     "metadata": {},
     "output_type": "execute_result"
    }
   ],
   "source": [
    "rf_test_acc = accuracy_score(y_test, op_rf.predict(X_test))\n",
    "rf_test_acc"
   ]
  },
  {
   "cell_type": "markdown",
   "id": "ffff2dc7",
   "metadata": {},
   "source": [
    "beginning of gradient boosting classifier grid search"
   ]
  },
  {
   "cell_type": "code",
   "execution_count": 33,
   "id": "be3cd7b1",
   "metadata": {},
   "outputs": [
    {
     "name": "stdout",
     "output_type": "stream",
     "text": [
      "Fitting 3 folds for each of 180 candidates, totalling 540 fits\n",
      "{'learning_rate': 0.2, 'max_depth': 2, 'n_estimators': 81}\n"
     ]
    }
   ],
   "source": [
    "param_grid = {'max_depth': [2, 10, 17, 24, 32],\n",
    "             'n_estimators': [2,41,81,121,160,200],\n",
    "             'learning_rate':[.01, .2, .4, .6, .8, 1]}\n",
    "grid_search_gb = GridSearchCV(GradientBoostingClassifier(random_state = 42),\n",
    "                              param_grid, verbose = 1,\n",
    "                              cv = 3)\n",
    "grid_search_gb.fit(X_train, y_train['genre'])\n",
    "print(grid_search_gb.best_params_)"
   ]
  },
  {
   "cell_type": "code",
   "execution_count": 34,
   "id": "71ad57b9",
   "metadata": {},
   "outputs": [
    {
     "name": "stdout",
     "output_type": "stream",
     "text": [
      "Fitting 3 folds for each of 216 candidates, totalling 648 fits\n",
      "{'learning_rate': 0.4, 'max_depth': 5, 'n_estimators': 41}\n"
     ]
    }
   ],
   "source": [
    "param_grid = {'max_depth': [2, 5,8,11,14,17],\n",
    "             'n_estimators': [41,57,73,89,105,121],\n",
    "             'learning_rate':[.01,.1,.16,.24,.32,.4]}\n",
    "grid_search_gb = GridSearchCV(GradientBoostingClassifier(random_state = 42),\n",
    "                              param_grid, verbose = 1,\n",
    "                              cv = 3)\n",
    "grid_search_gb.fit(X_train, y_train['genre'])\n",
    "print(grid_search_gb.best_params_)"
   ]
  },
  {
   "cell_type": "code",
   "execution_count": 35,
   "id": "144a013d",
   "metadata": {},
   "outputs": [
    {
     "name": "stdout",
     "output_type": "stream",
     "text": [
      "Fitting 3 folds for each of 252 candidates, totalling 756 fits\n",
      "{'learning_rate': 0.36, 'max_depth': 7, 'n_estimators': 57}\n"
     ]
    }
   ],
   "source": [
    "param_grid = {'max_depth': [2,3,4,5,6,7,8],\n",
    "             'n_estimators': [41,46,52,57],\n",
    "             'learning_rate':[.32,.33,.34,.35,.36,.37,.38,.39,.4]}\n",
    "grid_search_gb = GridSearchCV(GradientBoostingClassifier(random_state = 42),\n",
    "                              param_grid, verbose = 1,\n",
    "                              cv = 3)\n",
    "grid_search_gb.fit(X_train, y_train['genre'])\n",
    "print(grid_search_gb.best_params_) #taking too long, come back"
   ]
  },
  {
   "cell_type": "code",
   "execution_count": 36,
   "id": "9422d18a",
   "metadata": {},
   "outputs": [
    {
     "name": "stdout",
     "output_type": "stream",
     "text": [
      "Fitting 3 folds for each of 6 candidates, totalling 18 fits\n",
      "{'learning_rate': 0.36, 'max_depth': 7, 'n_estimators': 57}\n"
     ]
    }
   ],
   "source": [
    "param_grid = {'max_depth': [7],\n",
    "             'n_estimators': [52,53,54,55,56,57],\n",
    "             'learning_rate':[.36]}\n",
    "grid_search_gb = GridSearchCV(GradientBoostingClassifier(random_state = 42),\n",
    "                              param_grid, verbose = 1,\n",
    "                              cv = 3)\n",
    "grid_search_gb.fit(X_train, y_train['genre'])\n",
    "print(grid_search_gb.best_params_)"
   ]
  },
  {
   "cell_type": "markdown",
   "id": "60ad9c3a",
   "metadata": {},
   "source": [
    "learning rate: .36\n",
    "max_depth: 7\n",
    "n_estimators: 57"
   ]
  },
  {
   "cell_type": "code",
   "execution_count": 38,
   "id": "b6910484",
   "metadata": {},
   "outputs": [
    {
     "data": {
      "text/html": [
       "<style>#sk-container-id-3 {color: black;background-color: white;}#sk-container-id-3 pre{padding: 0;}#sk-container-id-3 div.sk-toggleable {background-color: white;}#sk-container-id-3 label.sk-toggleable__label {cursor: pointer;display: block;width: 100%;margin-bottom: 0;padding: 0.3em;box-sizing: border-box;text-align: center;}#sk-container-id-3 label.sk-toggleable__label-arrow:before {content: \"▸\";float: left;margin-right: 0.25em;color: #696969;}#sk-container-id-3 label.sk-toggleable__label-arrow:hover:before {color: black;}#sk-container-id-3 div.sk-estimator:hover label.sk-toggleable__label-arrow:before {color: black;}#sk-container-id-3 div.sk-toggleable__content {max-height: 0;max-width: 0;overflow: hidden;text-align: left;background-color: #f0f8ff;}#sk-container-id-3 div.sk-toggleable__content pre {margin: 0.2em;color: black;border-radius: 0.25em;background-color: #f0f8ff;}#sk-container-id-3 input.sk-toggleable__control:checked~div.sk-toggleable__content {max-height: 200px;max-width: 100%;overflow: auto;}#sk-container-id-3 input.sk-toggleable__control:checked~label.sk-toggleable__label-arrow:before {content: \"▾\";}#sk-container-id-3 div.sk-estimator input.sk-toggleable__control:checked~label.sk-toggleable__label {background-color: #d4ebff;}#sk-container-id-3 div.sk-label input.sk-toggleable__control:checked~label.sk-toggleable__label {background-color: #d4ebff;}#sk-container-id-3 input.sk-hidden--visually {border: 0;clip: rect(1px 1px 1px 1px);clip: rect(1px, 1px, 1px, 1px);height: 1px;margin: -1px;overflow: hidden;padding: 0;position: absolute;width: 1px;}#sk-container-id-3 div.sk-estimator {font-family: monospace;background-color: #f0f8ff;border: 1px dotted black;border-radius: 0.25em;box-sizing: border-box;margin-bottom: 0.5em;}#sk-container-id-3 div.sk-estimator:hover {background-color: #d4ebff;}#sk-container-id-3 div.sk-parallel-item::after {content: \"\";width: 100%;border-bottom: 1px solid gray;flex-grow: 1;}#sk-container-id-3 div.sk-label:hover label.sk-toggleable__label {background-color: #d4ebff;}#sk-container-id-3 div.sk-serial::before {content: \"\";position: absolute;border-left: 1px solid gray;box-sizing: border-box;top: 0;bottom: 0;left: 50%;z-index: 0;}#sk-container-id-3 div.sk-serial {display: flex;flex-direction: column;align-items: center;background-color: white;padding-right: 0.2em;padding-left: 0.2em;position: relative;}#sk-container-id-3 div.sk-item {position: relative;z-index: 1;}#sk-container-id-3 div.sk-parallel {display: flex;align-items: stretch;justify-content: center;background-color: white;position: relative;}#sk-container-id-3 div.sk-item::before, #sk-container-id-3 div.sk-parallel-item::before {content: \"\";position: absolute;border-left: 1px solid gray;box-sizing: border-box;top: 0;bottom: 0;left: 50%;z-index: -1;}#sk-container-id-3 div.sk-parallel-item {display: flex;flex-direction: column;z-index: 1;position: relative;background-color: white;}#sk-container-id-3 div.sk-parallel-item:first-child::after {align-self: flex-end;width: 50%;}#sk-container-id-3 div.sk-parallel-item:last-child::after {align-self: flex-start;width: 50%;}#sk-container-id-3 div.sk-parallel-item:only-child::after {width: 0;}#sk-container-id-3 div.sk-dashed-wrapped {border: 1px dashed gray;margin: 0 0.4em 0.5em 0.4em;box-sizing: border-box;padding-bottom: 0.4em;background-color: white;}#sk-container-id-3 div.sk-label label {font-family: monospace;font-weight: bold;display: inline-block;line-height: 1.2em;}#sk-container-id-3 div.sk-label-container {text-align: center;}#sk-container-id-3 div.sk-container {/* jupyter's `normalize.less` sets `[hidden] { display: none; }` but bootstrap.min.css set `[hidden] { display: none !important; }` so we also need the `!important` here to be able to override the default hidden behavior on the sphinx rendered scikit-learn.org. See: https://github.com/scikit-learn/scikit-learn/issues/21755 */display: inline-block !important;position: relative;}#sk-container-id-3 div.sk-text-repr-fallback {display: none;}</style><div id=\"sk-container-id-3\" class=\"sk-top-container\"><div class=\"sk-text-repr-fallback\"><pre>GradientBoostingClassifier(learning_rate=0.36, max_depth=7, n_estimators=57,\n",
       "                           random_state=42)</pre><b>In a Jupyter environment, please rerun this cell to show the HTML representation or trust the notebook. <br />On GitHub, the HTML representation is unable to render, please try loading this page with nbviewer.org.</b></div><div class=\"sk-container\" hidden><div class=\"sk-item\"><div class=\"sk-estimator sk-toggleable\"><input class=\"sk-toggleable__control sk-hidden--visually\" id=\"sk-estimator-id-3\" type=\"checkbox\" checked><label for=\"sk-estimator-id-3\" class=\"sk-toggleable__label sk-toggleable__label-arrow\">GradientBoostingClassifier</label><div class=\"sk-toggleable__content\"><pre>GradientBoostingClassifier(learning_rate=0.36, max_depth=7, n_estimators=57,\n",
       "                           random_state=42)</pre></div></div></div></div></div>"
      ],
      "text/plain": [
       "GradientBoostingClassifier(learning_rate=0.36, max_depth=7, n_estimators=57,\n",
       "                           random_state=42)"
      ]
     },
     "execution_count": 38,
     "metadata": {},
     "output_type": "execute_result"
    }
   ],
   "source": [
    "op_gbc = GradientBoostingClassifier(max_depth = 7, n_estimators = 57,\n",
    "                               learning_rate = .36, random_state = 42)\n",
    "op_gbc.fit(X_train, y_train['genre'])"
   ]
  },
  {
   "cell_type": "code",
   "execution_count": 39,
   "id": "d3ca05b9",
   "metadata": {},
   "outputs": [
    {
     "data": {
      "text/plain": [
       "0.8611111111111112"
      ]
     },
     "execution_count": 39,
     "metadata": {},
     "output_type": "execute_result"
    }
   ],
   "source": [
    "gbc_test_acc = accuracy_score(y_test, op_gbc.predict(X_test))\n",
    "gbc_test_acc"
   ]
  },
  {
   "cell_type": "markdown",
   "id": "f5b38e62",
   "metadata": {},
   "source": [
    "beginning of knn classifier grid search"
   ]
  },
  {
   "cell_type": "code",
   "execution_count": 40,
   "id": "bc4f7d63",
   "metadata": {},
   "outputs": [
    {
     "name": "stdout",
     "output_type": "stream",
     "text": [
      "Fitting 3 folds for each of 36 candidates, totalling 108 fits\n",
      "{'metric': 'manhattan', 'n_neighbors': 9, 'weights': 'distance'}\n"
     ]
    }
   ],
   "source": [
    "param_grid = {'weights' : ['uniform', 'distance'],\n",
    "             'metric' : ['euclidean', 'manhattan', 'minkowski'],\n",
    "             'n_neighbors' : [1, 5, 9, 13, 17, 21]}\n",
    "grid_search_knn = GridSearchCV(KNeighborsClassifier(),\n",
    "                              param_grid, verbose = 1,\n",
    "                              cv = 3)\n",
    "grid_search_knn.fit(X_train, y_train['genre'])\n",
    "print(grid_search_knn.best_params_)"
   ]
  },
  {
   "cell_type": "code",
   "execution_count": 41,
   "id": "7c7a884c",
   "metadata": {},
   "outputs": [
    {
     "name": "stdout",
     "output_type": "stream",
     "text": [
      "Fitting 3 folds for each of 5 candidates, totalling 15 fits\n",
      "{'metric': 'manhattan', 'n_neighbors': 11, 'weights': 'distance'}\n"
     ]
    }
   ],
   "source": [
    "param_grid = {'weights' : ['distance'],\n",
    "             'metric' : ['manhattan'],\n",
    "             'n_neighbors' : [5,7,9,11,13]}\n",
    "grid_search_knn = GridSearchCV(KNeighborsClassifier(),\n",
    "                              param_grid, verbose = 1,\n",
    "                              cv = 3)\n",
    "grid_search_knn.fit(X_train, y_train['genre'])\n",
    "print(grid_search_knn.best_params_)"
   ]
  },
  {
   "cell_type": "markdown",
   "id": "105ff3d6",
   "metadata": {},
   "source": [
    "metric: manhattan\n",
    "weights: distance\n",
    "n_neighbors: 11"
   ]
  },
  {
   "cell_type": "code",
   "execution_count": 42,
   "id": "43a914ce",
   "metadata": {},
   "outputs": [
    {
     "data": {
      "text/html": [
       "<style>#sk-container-id-4 {color: black;background-color: white;}#sk-container-id-4 pre{padding: 0;}#sk-container-id-4 div.sk-toggleable {background-color: white;}#sk-container-id-4 label.sk-toggleable__label {cursor: pointer;display: block;width: 100%;margin-bottom: 0;padding: 0.3em;box-sizing: border-box;text-align: center;}#sk-container-id-4 label.sk-toggleable__label-arrow:before {content: \"▸\";float: left;margin-right: 0.25em;color: #696969;}#sk-container-id-4 label.sk-toggleable__label-arrow:hover:before {color: black;}#sk-container-id-4 div.sk-estimator:hover label.sk-toggleable__label-arrow:before {color: black;}#sk-container-id-4 div.sk-toggleable__content {max-height: 0;max-width: 0;overflow: hidden;text-align: left;background-color: #f0f8ff;}#sk-container-id-4 div.sk-toggleable__content pre {margin: 0.2em;color: black;border-radius: 0.25em;background-color: #f0f8ff;}#sk-container-id-4 input.sk-toggleable__control:checked~div.sk-toggleable__content {max-height: 200px;max-width: 100%;overflow: auto;}#sk-container-id-4 input.sk-toggleable__control:checked~label.sk-toggleable__label-arrow:before {content: \"▾\";}#sk-container-id-4 div.sk-estimator input.sk-toggleable__control:checked~label.sk-toggleable__label {background-color: #d4ebff;}#sk-container-id-4 div.sk-label input.sk-toggleable__control:checked~label.sk-toggleable__label {background-color: #d4ebff;}#sk-container-id-4 input.sk-hidden--visually {border: 0;clip: rect(1px 1px 1px 1px);clip: rect(1px, 1px, 1px, 1px);height: 1px;margin: -1px;overflow: hidden;padding: 0;position: absolute;width: 1px;}#sk-container-id-4 div.sk-estimator {font-family: monospace;background-color: #f0f8ff;border: 1px dotted black;border-radius: 0.25em;box-sizing: border-box;margin-bottom: 0.5em;}#sk-container-id-4 div.sk-estimator:hover {background-color: #d4ebff;}#sk-container-id-4 div.sk-parallel-item::after {content: \"\";width: 100%;border-bottom: 1px solid gray;flex-grow: 1;}#sk-container-id-4 div.sk-label:hover label.sk-toggleable__label {background-color: #d4ebff;}#sk-container-id-4 div.sk-serial::before {content: \"\";position: absolute;border-left: 1px solid gray;box-sizing: border-box;top: 0;bottom: 0;left: 50%;z-index: 0;}#sk-container-id-4 div.sk-serial {display: flex;flex-direction: column;align-items: center;background-color: white;padding-right: 0.2em;padding-left: 0.2em;position: relative;}#sk-container-id-4 div.sk-item {position: relative;z-index: 1;}#sk-container-id-4 div.sk-parallel {display: flex;align-items: stretch;justify-content: center;background-color: white;position: relative;}#sk-container-id-4 div.sk-item::before, #sk-container-id-4 div.sk-parallel-item::before {content: \"\";position: absolute;border-left: 1px solid gray;box-sizing: border-box;top: 0;bottom: 0;left: 50%;z-index: -1;}#sk-container-id-4 div.sk-parallel-item {display: flex;flex-direction: column;z-index: 1;position: relative;background-color: white;}#sk-container-id-4 div.sk-parallel-item:first-child::after {align-self: flex-end;width: 50%;}#sk-container-id-4 div.sk-parallel-item:last-child::after {align-self: flex-start;width: 50%;}#sk-container-id-4 div.sk-parallel-item:only-child::after {width: 0;}#sk-container-id-4 div.sk-dashed-wrapped {border: 1px dashed gray;margin: 0 0.4em 0.5em 0.4em;box-sizing: border-box;padding-bottom: 0.4em;background-color: white;}#sk-container-id-4 div.sk-label label {font-family: monospace;font-weight: bold;display: inline-block;line-height: 1.2em;}#sk-container-id-4 div.sk-label-container {text-align: center;}#sk-container-id-4 div.sk-container {/* jupyter's `normalize.less` sets `[hidden] { display: none; }` but bootstrap.min.css set `[hidden] { display: none !important; }` so we also need the `!important` here to be able to override the default hidden behavior on the sphinx rendered scikit-learn.org. See: https://github.com/scikit-learn/scikit-learn/issues/21755 */display: inline-block !important;position: relative;}#sk-container-id-4 div.sk-text-repr-fallback {display: none;}</style><div id=\"sk-container-id-4\" class=\"sk-top-container\"><div class=\"sk-text-repr-fallback\"><pre>KNeighborsClassifier(metric=&#x27;manhattan&#x27;, n_neighbors=11, weights=&#x27;distance&#x27;)</pre><b>In a Jupyter environment, please rerun this cell to show the HTML representation or trust the notebook. <br />On GitHub, the HTML representation is unable to render, please try loading this page with nbviewer.org.</b></div><div class=\"sk-container\" hidden><div class=\"sk-item\"><div class=\"sk-estimator sk-toggleable\"><input class=\"sk-toggleable__control sk-hidden--visually\" id=\"sk-estimator-id-4\" type=\"checkbox\" checked><label for=\"sk-estimator-id-4\" class=\"sk-toggleable__label sk-toggleable__label-arrow\">KNeighborsClassifier</label><div class=\"sk-toggleable__content\"><pre>KNeighborsClassifier(metric=&#x27;manhattan&#x27;, n_neighbors=11, weights=&#x27;distance&#x27;)</pre></div></div></div></div></div>"
      ],
      "text/plain": [
       "KNeighborsClassifier(metric='manhattan', n_neighbors=11, weights='distance')"
      ]
     },
     "execution_count": 42,
     "metadata": {},
     "output_type": "execute_result"
    }
   ],
   "source": [
    "op_knn = KNeighborsClassifier(metric = 'manhattan', weights = 'distance',\n",
    "                               n_neighbors = 11)\n",
    "op_knn.fit(X_train, y_train['genre'])"
   ]
  },
  {
   "cell_type": "code",
   "execution_count": 43,
   "id": "1ea680aa",
   "metadata": {},
   "outputs": [
    {
     "data": {
      "text/plain": [
       "0.8148148148148148"
      ]
     },
     "execution_count": 43,
     "metadata": {},
     "output_type": "execute_result"
    }
   ],
   "source": [
    "knn_test_acc = accuracy_score(y_test, op_knn.predict(X_test))\n",
    "knn_test_acc"
   ]
  },
  {
   "cell_type": "markdown",
   "id": "3758fd01",
   "metadata": {},
   "source": [
    "beginning of ridge classifier grid search"
   ]
  },
  {
   "cell_type": "code",
   "execution_count": 44,
   "id": "108b34e0",
   "metadata": {},
   "outputs": [
    {
     "name": "stdout",
     "output_type": "stream",
     "text": [
      "Fitting 3 folds for each of 10 candidates, totalling 30 fits\n",
      "{'alpha': 0.1}\n"
     ]
    }
   ],
   "source": [
    "param_grid = {'alpha':[0.1, 0.2, 0.3, 0.4, 0.5, 0.6, 0.7, 0.8, 0.9, 1.0]}\n",
    "grid_search_rc = GridSearchCV(RidgeClassifier(random_state = 42),\n",
    "                              param_grid, verbose = 1,\n",
    "                              cv = 3)\n",
    "grid_search_rc.fit(X_train, y_train['genre'])\n",
    "print(grid_search_rc.best_params_)"
   ]
  },
  {
   "cell_type": "code",
   "execution_count": 46,
   "id": "340250fb",
   "metadata": {},
   "outputs": [
    {
     "data": {
      "text/html": [
       "<style>#sk-container-id-5 {color: black;background-color: white;}#sk-container-id-5 pre{padding: 0;}#sk-container-id-5 div.sk-toggleable {background-color: white;}#sk-container-id-5 label.sk-toggleable__label {cursor: pointer;display: block;width: 100%;margin-bottom: 0;padding: 0.3em;box-sizing: border-box;text-align: center;}#sk-container-id-5 label.sk-toggleable__label-arrow:before {content: \"▸\";float: left;margin-right: 0.25em;color: #696969;}#sk-container-id-5 label.sk-toggleable__label-arrow:hover:before {color: black;}#sk-container-id-5 div.sk-estimator:hover label.sk-toggleable__label-arrow:before {color: black;}#sk-container-id-5 div.sk-toggleable__content {max-height: 0;max-width: 0;overflow: hidden;text-align: left;background-color: #f0f8ff;}#sk-container-id-5 div.sk-toggleable__content pre {margin: 0.2em;color: black;border-radius: 0.25em;background-color: #f0f8ff;}#sk-container-id-5 input.sk-toggleable__control:checked~div.sk-toggleable__content {max-height: 200px;max-width: 100%;overflow: auto;}#sk-container-id-5 input.sk-toggleable__control:checked~label.sk-toggleable__label-arrow:before {content: \"▾\";}#sk-container-id-5 div.sk-estimator input.sk-toggleable__control:checked~label.sk-toggleable__label {background-color: #d4ebff;}#sk-container-id-5 div.sk-label input.sk-toggleable__control:checked~label.sk-toggleable__label {background-color: #d4ebff;}#sk-container-id-5 input.sk-hidden--visually {border: 0;clip: rect(1px 1px 1px 1px);clip: rect(1px, 1px, 1px, 1px);height: 1px;margin: -1px;overflow: hidden;padding: 0;position: absolute;width: 1px;}#sk-container-id-5 div.sk-estimator {font-family: monospace;background-color: #f0f8ff;border: 1px dotted black;border-radius: 0.25em;box-sizing: border-box;margin-bottom: 0.5em;}#sk-container-id-5 div.sk-estimator:hover {background-color: #d4ebff;}#sk-container-id-5 div.sk-parallel-item::after {content: \"\";width: 100%;border-bottom: 1px solid gray;flex-grow: 1;}#sk-container-id-5 div.sk-label:hover label.sk-toggleable__label {background-color: #d4ebff;}#sk-container-id-5 div.sk-serial::before {content: \"\";position: absolute;border-left: 1px solid gray;box-sizing: border-box;top: 0;bottom: 0;left: 50%;z-index: 0;}#sk-container-id-5 div.sk-serial {display: flex;flex-direction: column;align-items: center;background-color: white;padding-right: 0.2em;padding-left: 0.2em;position: relative;}#sk-container-id-5 div.sk-item {position: relative;z-index: 1;}#sk-container-id-5 div.sk-parallel {display: flex;align-items: stretch;justify-content: center;background-color: white;position: relative;}#sk-container-id-5 div.sk-item::before, #sk-container-id-5 div.sk-parallel-item::before {content: \"\";position: absolute;border-left: 1px solid gray;box-sizing: border-box;top: 0;bottom: 0;left: 50%;z-index: -1;}#sk-container-id-5 div.sk-parallel-item {display: flex;flex-direction: column;z-index: 1;position: relative;background-color: white;}#sk-container-id-5 div.sk-parallel-item:first-child::after {align-self: flex-end;width: 50%;}#sk-container-id-5 div.sk-parallel-item:last-child::after {align-self: flex-start;width: 50%;}#sk-container-id-5 div.sk-parallel-item:only-child::after {width: 0;}#sk-container-id-5 div.sk-dashed-wrapped {border: 1px dashed gray;margin: 0 0.4em 0.5em 0.4em;box-sizing: border-box;padding-bottom: 0.4em;background-color: white;}#sk-container-id-5 div.sk-label label {font-family: monospace;font-weight: bold;display: inline-block;line-height: 1.2em;}#sk-container-id-5 div.sk-label-container {text-align: center;}#sk-container-id-5 div.sk-container {/* jupyter's `normalize.less` sets `[hidden] { display: none; }` but bootstrap.min.css set `[hidden] { display: none !important; }` so we also need the `!important` here to be able to override the default hidden behavior on the sphinx rendered scikit-learn.org. See: https://github.com/scikit-learn/scikit-learn/issues/21755 */display: inline-block !important;position: relative;}#sk-container-id-5 div.sk-text-repr-fallback {display: none;}</style><div id=\"sk-container-id-5\" class=\"sk-top-container\"><div class=\"sk-text-repr-fallback\"><pre>RidgeClassifier(alpha=0.1)</pre><b>In a Jupyter environment, please rerun this cell to show the HTML representation or trust the notebook. <br />On GitHub, the HTML representation is unable to render, please try loading this page with nbviewer.org.</b></div><div class=\"sk-container\" hidden><div class=\"sk-item\"><div class=\"sk-estimator sk-toggleable\"><input class=\"sk-toggleable__control sk-hidden--visually\" id=\"sk-estimator-id-5\" type=\"checkbox\" checked><label for=\"sk-estimator-id-5\" class=\"sk-toggleable__label sk-toggleable__label-arrow\">RidgeClassifier</label><div class=\"sk-toggleable__content\"><pre>RidgeClassifier(alpha=0.1)</pre></div></div></div></div></div>"
      ],
      "text/plain": [
       "RidgeClassifier(alpha=0.1)"
      ]
     },
     "execution_count": 46,
     "metadata": {},
     "output_type": "execute_result"
    }
   ],
   "source": [
    "op_rc = RidgeClassifier(alpha = .1)\n",
    "op_rc.fit(X_train, y_train['genre'])"
   ]
  },
  {
   "cell_type": "code",
   "execution_count": 47,
   "id": "a6aff6b8",
   "metadata": {},
   "outputs": [
    {
     "data": {
      "text/plain": [
       "0.8425925925925926"
      ]
     },
     "execution_count": 47,
     "metadata": {},
     "output_type": "execute_result"
    }
   ],
   "source": [
    "rc_test_acc = accuracy_score(y_test, op_rc.predict(X_test))\n",
    "rc_test_acc"
   ]
  },
  {
   "cell_type": "markdown",
   "id": "a272eb80",
   "metadata": {},
   "source": [
    "beginning of svc grid search"
   ]
  },
  {
   "cell_type": "code",
   "execution_count": 48,
   "id": "29e209c2",
   "metadata": {},
   "outputs": [
    {
     "name": "stdout",
     "output_type": "stream",
     "text": [
      "Fitting 3 folds for each of 15 candidates, totalling 45 fits\n",
      "{'C': 1.0, 'kernel': 'rbf'}\n"
     ]
    }
   ],
   "source": [
    "param_grid = {'kernel' : ['poly', 'rbf', 'sigmoid'],\n",
    "             'C' : [50, 10, 1.0, 0.1, 0.01]}\n",
    "grid_search_svc = GridSearchCV(SVC(random_state = 42),\n",
    "                              param_grid, verbose = 1,\n",
    "                              cv = 3)\n",
    "grid_search_svc.fit(X_train, y_train['genre'])\n",
    "print(grid_search_svc.best_params_)"
   ]
  },
  {
   "cell_type": "code",
   "execution_count": 49,
   "id": "744cb141",
   "metadata": {},
   "outputs": [
    {
     "name": "stdout",
     "output_type": "stream",
     "text": [
      "Fitting 3 folds for each of 15 candidates, totalling 45 fits\n",
      "{'C': 1.5, 'kernel': 'rbf'}\n"
     ]
    }
   ],
   "source": [
    "param_grid = {'kernel' : ['rbf'],\n",
    "             'C' : [.1,.8,1.5,2.2,2.9,3.6,4.3,5.1,5.8,6.5,7.1,7.9,8.6,9.3,10]}\n",
    "grid_search_svc = GridSearchCV(SVC(random_state = 42),\n",
    "                              param_grid, verbose = 1,\n",
    "                              cv = 3)\n",
    "grid_search_svc.fit(X_train, y_train['genre'])\n",
    "print(grid_search_svc.best_params_)"
   ]
  },
  {
   "cell_type": "code",
   "execution_count": 50,
   "id": "ff5abbf3",
   "metadata": {},
   "outputs": [
    {
     "name": "stdout",
     "output_type": "stream",
     "text": [
      "Fitting 3 folds for each of 15 candidates, totalling 45 fits\n",
      "{'C': 1, 'kernel': 'rbf'}\n"
     ]
    }
   ],
   "source": [
    "param_grid = {'kernel' : ['rbf'],\n",
    "             'C' : [.8,.9,1,1.1,1.2,1.3,1.4,1.5,1.6,1.7,1.8,1.9,2.0,2.1,2.2]}\n",
    "grid_search_svc = GridSearchCV(SVC(random_state = 42),\n",
    "                              param_grid, verbose = 1,\n",
    "                              cv = 3)\n",
    "grid_search_svc.fit(X_train, y_train['genre'])\n",
    "print(grid_search_svc.best_params_)"
   ]
  },
  {
   "cell_type": "code",
   "execution_count": 51,
   "id": "d8a8b849",
   "metadata": {},
   "outputs": [
    {
     "data": {
      "text/html": [
       "<style>#sk-container-id-6 {color: black;background-color: white;}#sk-container-id-6 pre{padding: 0;}#sk-container-id-6 div.sk-toggleable {background-color: white;}#sk-container-id-6 label.sk-toggleable__label {cursor: pointer;display: block;width: 100%;margin-bottom: 0;padding: 0.3em;box-sizing: border-box;text-align: center;}#sk-container-id-6 label.sk-toggleable__label-arrow:before {content: \"▸\";float: left;margin-right: 0.25em;color: #696969;}#sk-container-id-6 label.sk-toggleable__label-arrow:hover:before {color: black;}#sk-container-id-6 div.sk-estimator:hover label.sk-toggleable__label-arrow:before {color: black;}#sk-container-id-6 div.sk-toggleable__content {max-height: 0;max-width: 0;overflow: hidden;text-align: left;background-color: #f0f8ff;}#sk-container-id-6 div.sk-toggleable__content pre {margin: 0.2em;color: black;border-radius: 0.25em;background-color: #f0f8ff;}#sk-container-id-6 input.sk-toggleable__control:checked~div.sk-toggleable__content {max-height: 200px;max-width: 100%;overflow: auto;}#sk-container-id-6 input.sk-toggleable__control:checked~label.sk-toggleable__label-arrow:before {content: \"▾\";}#sk-container-id-6 div.sk-estimator input.sk-toggleable__control:checked~label.sk-toggleable__label {background-color: #d4ebff;}#sk-container-id-6 div.sk-label input.sk-toggleable__control:checked~label.sk-toggleable__label {background-color: #d4ebff;}#sk-container-id-6 input.sk-hidden--visually {border: 0;clip: rect(1px 1px 1px 1px);clip: rect(1px, 1px, 1px, 1px);height: 1px;margin: -1px;overflow: hidden;padding: 0;position: absolute;width: 1px;}#sk-container-id-6 div.sk-estimator {font-family: monospace;background-color: #f0f8ff;border: 1px dotted black;border-radius: 0.25em;box-sizing: border-box;margin-bottom: 0.5em;}#sk-container-id-6 div.sk-estimator:hover {background-color: #d4ebff;}#sk-container-id-6 div.sk-parallel-item::after {content: \"\";width: 100%;border-bottom: 1px solid gray;flex-grow: 1;}#sk-container-id-6 div.sk-label:hover label.sk-toggleable__label {background-color: #d4ebff;}#sk-container-id-6 div.sk-serial::before {content: \"\";position: absolute;border-left: 1px solid gray;box-sizing: border-box;top: 0;bottom: 0;left: 50%;z-index: 0;}#sk-container-id-6 div.sk-serial {display: flex;flex-direction: column;align-items: center;background-color: white;padding-right: 0.2em;padding-left: 0.2em;position: relative;}#sk-container-id-6 div.sk-item {position: relative;z-index: 1;}#sk-container-id-6 div.sk-parallel {display: flex;align-items: stretch;justify-content: center;background-color: white;position: relative;}#sk-container-id-6 div.sk-item::before, #sk-container-id-6 div.sk-parallel-item::before {content: \"\";position: absolute;border-left: 1px solid gray;box-sizing: border-box;top: 0;bottom: 0;left: 50%;z-index: -1;}#sk-container-id-6 div.sk-parallel-item {display: flex;flex-direction: column;z-index: 1;position: relative;background-color: white;}#sk-container-id-6 div.sk-parallel-item:first-child::after {align-self: flex-end;width: 50%;}#sk-container-id-6 div.sk-parallel-item:last-child::after {align-self: flex-start;width: 50%;}#sk-container-id-6 div.sk-parallel-item:only-child::after {width: 0;}#sk-container-id-6 div.sk-dashed-wrapped {border: 1px dashed gray;margin: 0 0.4em 0.5em 0.4em;box-sizing: border-box;padding-bottom: 0.4em;background-color: white;}#sk-container-id-6 div.sk-label label {font-family: monospace;font-weight: bold;display: inline-block;line-height: 1.2em;}#sk-container-id-6 div.sk-label-container {text-align: center;}#sk-container-id-6 div.sk-container {/* jupyter's `normalize.less` sets `[hidden] { display: none; }` but bootstrap.min.css set `[hidden] { display: none !important; }` so we also need the `!important` here to be able to override the default hidden behavior on the sphinx rendered scikit-learn.org. See: https://github.com/scikit-learn/scikit-learn/issues/21755 */display: inline-block !important;position: relative;}#sk-container-id-6 div.sk-text-repr-fallback {display: none;}</style><div id=\"sk-container-id-6\" class=\"sk-top-container\"><div class=\"sk-text-repr-fallback\"><pre>SVC(C=1)</pre><b>In a Jupyter environment, please rerun this cell to show the HTML representation or trust the notebook. <br />On GitHub, the HTML representation is unable to render, please try loading this page with nbviewer.org.</b></div><div class=\"sk-container\" hidden><div class=\"sk-item\"><div class=\"sk-estimator sk-toggleable\"><input class=\"sk-toggleable__control sk-hidden--visually\" id=\"sk-estimator-id-6\" type=\"checkbox\" checked><label for=\"sk-estimator-id-6\" class=\"sk-toggleable__label sk-toggleable__label-arrow\">SVC</label><div class=\"sk-toggleable__content\"><pre>SVC(C=1)</pre></div></div></div></div></div>"
      ],
      "text/plain": [
       "SVC(C=1)"
      ]
     },
     "execution_count": 51,
     "metadata": {},
     "output_type": "execute_result"
    }
   ],
   "source": [
    "op_svc = SVC(kernel = 'rbf', C = 1 )\n",
    "op_svc.fit(X_train, y_train['genre'])"
   ]
  },
  {
   "cell_type": "code",
   "execution_count": 52,
   "id": "f9e7efe5",
   "metadata": {},
   "outputs": [
    {
     "data": {
      "text/plain": [
       "0.8379629629629629"
      ]
     },
     "execution_count": 52,
     "metadata": {},
     "output_type": "execute_result"
    }
   ],
   "source": [
    "svc_test_acc = accuracy_score(y_test, op_svc.predict(X_test))\n",
    "svc_test_acc"
   ]
  },
  {
   "cell_type": "markdown",
   "id": "8851a255",
   "metadata": {},
   "source": [
    "beginning of bagging classifier grid search"
   ]
  },
  {
   "cell_type": "code",
   "execution_count": 53,
   "id": "6777cfdc",
   "metadata": {},
   "outputs": [
    {
     "name": "stdout",
     "output_type": "stream",
     "text": [
      "Fitting 3 folds for each of 360 candidates, totalling 1080 fits\n",
      "{'max_features': 0.8, 'max_samples': 1.0, 'n_estimators': 100}\n"
     ]
    }
   ],
   "source": [
    "param_grid = {'n_estimators' : [2,22,41,61,80,100],\n",
    "             'max_samples': [.5,.6,.7,.8,.9,1.0],\n",
    "             'max_features' : [.1,.2,.3,.4,.5,.6,.7,.8,.9,1]}\n",
    "grid_search_bbc = GridSearchCV(BaggingClassifier(random_state = 42),\n",
    "                              param_grid, verbose = 1,\n",
    "                              cv = 3)\n",
    "grid_search_bbc.fit(X_train, y_train['genre'])\n",
    "print(grid_search_bbc.best_params_)"
   ]
  },
  {
   "cell_type": "code",
   "execution_count": 54,
   "id": "7ed0c8ff",
   "metadata": {},
   "outputs": [
    {
     "name": "stdout",
     "output_type": "stream",
     "text": [
      "Fitting 3 folds for each of 12 candidates, totalling 36 fits\n",
      "{'max_features': 0.8, 'max_samples': 1.0, 'n_estimators': 87}\n"
     ]
    }
   ],
   "source": [
    "param_grid = {'n_estimators' : [80,84,87,91,95,98,102,105,109,113,116,120],\n",
    "             'max_samples': [1.0],\n",
    "             'max_features' : [.8]}\n",
    "grid_search_bbc = GridSearchCV(BaggingClassifier(random_state = 42),\n",
    "                              param_grid, verbose = 1,\n",
    "                              cv = 3)\n",
    "grid_search_bbc.fit(X_train, y_train['genre'])\n",
    "print(grid_search_bbc.best_params_)"
   ]
  },
  {
   "cell_type": "code",
   "execution_count": 55,
   "id": "6ae39a18",
   "metadata": {},
   "outputs": [
    {
     "name": "stdout",
     "output_type": "stream",
     "text": [
      "Fitting 3 folds for each of 9 candidates, totalling 27 fits\n",
      "{'max_features': 0.8, 'max_samples': 1.0, 'n_estimators': 90}\n"
     ]
    }
   ],
   "source": [
    "param_grid = {'n_estimators' : [84,85,86,86,87,88,89,90,91],\n",
    "             'max_samples': [1.0],\n",
    "             'max_features' : [.8]}\n",
    "grid_search_bbc = GridSearchCV(BaggingClassifier(random_state = 42),\n",
    "                              param_grid, verbose = 1,\n",
    "                              cv = 3)\n",
    "grid_search_bbc.fit(X_train, y_train['genre'])\n",
    "print(grid_search_bbc.best_params_)"
   ]
  },
  {
   "cell_type": "code",
   "execution_count": 56,
   "id": "1b085dd2",
   "metadata": {},
   "outputs": [
    {
     "data": {
      "text/plain": [
       "0.8703703703703703"
      ]
     },
     "execution_count": 56,
     "metadata": {},
     "output_type": "execute_result"
    }
   ],
   "source": [
    "op_bbc = BaggingClassifier(n_estimators = 90,\n",
    "                          max_samples = 1.0,\n",
    "                          max_features = .8,\n",
    "                          random_state = 42)\n",
    "op_bbc.fit(X_train, y_train['genre'])\n",
    "bbc_test_acc = accuracy_score(y_test, op_bbc.predict(X_test))\n",
    "bbc_test_acc"
   ]
  },
  {
   "cell_type": "markdown",
   "id": "34ce8468",
   "metadata": {},
   "source": [
    "get song uri based on artist and title"
   ]
  },
  {
   "cell_type": "code",
   "execution_count": 57,
   "id": "f27ebdeb",
   "metadata": {},
   "outputs": [],
   "source": [
    "def searchSong(artist, title):\n",
    "    query = f\"artist:%{artist} track:%{title}\"\n",
    "    results = sp.search(query, type=\"track\", limit=1)\n",
    "    return results['tracks']['items'][0]['uri']"
   ]
  },
  {
   "cell_type": "markdown",
   "id": "01cd8cac",
   "metadata": {},
   "source": [
    "feed into prediction algorithm"
   ]
  },
  {
   "cell_type": "code",
   "execution_count": 58,
   "id": "2d1fa8dc",
   "metadata": {},
   "outputs": [],
   "source": [
    "def predictMood(uri):\n",
    "    song_features = sp.audio_features(uri)[0]\n",
    "    features_column = pd.DataFrame.from_dict(song_features, orient = 'index')\n",
    "    features_row = features_column.T\n",
    "    trim_row = features_row[['danceability', 'energy', 'key', 'loudness', 'mode', 'speechiness', 'acousticness', 'instrumentalness', 'liveness', 'valence', 'tempo', 'duration_ms', 'time_signature']]\n",
    "    #only_numeric= trim_row.select_dtypes(exclude=['object'])\n",
    "    trim_row = scaler.transform(trim_row)\n",
    "    return op_bbc.predict(trim_row) # this will be changed to model_in.predict(trim_row)"
   ]
  },
  {
   "cell_type": "code",
   "execution_count": 59,
   "id": "0e8bcdef",
   "metadata": {},
   "outputs": [],
   "source": [
    "def moodPredictor(artist, title):\n",
    "    try:\n",
    "        x = (predictMood(searchSong(artist, title)))[0]\n",
    "        print(f'It looks like this song is {x}!')\n",
    "    except: print(\"Oops! I couldn't find that song. Did you spell everything right?\")"
   ]
  },
  {
   "cell_type": "code",
   "execution_count": 60,
   "id": "bfcc5675",
   "metadata": {},
   "outputs": [],
   "source": [
    "from joblib import dump, load"
   ]
  },
  {
   "cell_type": "code",
   "execution_count": null,
   "id": "4cd94a8e",
   "metadata": {},
   "outputs": [],
   "source": [
    "dump(op_bbc, 'improved_model.joblib')"
   ]
  },
  {
   "cell_type": "code",
   "execution_count": null,
   "id": "421214ac",
   "metadata": {},
   "outputs": [],
   "source": [
    "dump(scaler, 'improved_scaler_scaler.joblib')"
   ]
  }
 ],
 "metadata": {
  "kernelspec": {
   "display_name": "Python 3 (ipykernel)",
   "language": "python",
   "name": "python3"
  },
  "language_info": {
   "codemirror_mode": {
    "name": "ipython",
    "version": 3
   },
   "file_extension": ".py",
   "mimetype": "text/x-python",
   "name": "python",
   "nbconvert_exporter": "python",
   "pygments_lexer": "ipython3",
   "version": "3.9.13"
  }
 },
 "nbformat": 4,
 "nbformat_minor": 5
}
